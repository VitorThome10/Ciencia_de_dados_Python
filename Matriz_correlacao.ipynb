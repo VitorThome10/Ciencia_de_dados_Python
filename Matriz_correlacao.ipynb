{
  "nbformat": 4,
  "nbformat_minor": 0,
  "metadata": {
    "colab": {
      "provenance": [],
      "authorship_tag": "ABX9TyPliWYaczd5QBIgNpB+iMcf",
      "include_colab_link": true
    },
    "kernelspec": {
      "name": "python3",
      "display_name": "Python 3"
    },
    "language_info": {
      "name": "python"
    }
  },
  "cells": [
    {
      "cell_type": "markdown",
      "metadata": {
        "id": "view-in-github",
        "colab_type": "text"
      },
      "source": [
        "<a href=\"https://colab.research.google.com/github/VitorThome10/Ciencia_de_dados_Python/blob/main/Matriz_correlacao.ipynb\" target=\"_parent\"><img src=\"https://colab.research.google.com/assets/colab-badge.svg\" alt=\"Open In Colab\"/></a>"
      ]
    },
    {
      "cell_type": "code",
      "execution_count": null,
      "metadata": {
        "id": "qD8HqPIh8qZd"
      },
      "outputs": [],
      "source": [
        "# Fazendo uma matriz de correlação entre os ativos\n",
        "\n",
        "acoes01 = [\"ITUB3.SA\",\"ITUB4.SA\",\"SANB11.SA\",\"WEGE3.SA\",\"ABEV3.SA\"]\n",
        "\n",
        "dados_acoes = yf.download(acoes01,\"2019-01-01\",\"2023-06-14\")[\"Adj Close\"]\n",
        "\n",
        "matriz_corr = dados_acoes.pct_change().dropna().corr()\n",
        "\n",
        "matriz_corr"
      ]
    }
  ]
}