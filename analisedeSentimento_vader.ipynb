{
  "nbformat": 4,
  "nbformat_minor": 0,
  "metadata": {
    "colab": {
      "provenance": [],
      "authorship_tag": "ABX9TyML81wXyRmlUfhIZLgBjGc2",
      "include_colab_link": true
    },
    "kernelspec": {
      "name": "python3",
      "display_name": "Python 3"
    },
    "language_info": {
      "name": "python"
    }
  },
  "cells": [
    {
      "cell_type": "markdown",
      "metadata": {
        "id": "view-in-github",
        "colab_type": "text"
      },
      "source": [
        "<a href=\"https://colab.research.google.com/github/VitorThome10/Ciencia_de_dados_Python/blob/main/analisedeSentimento_vader.ipynb\" target=\"_parent\"><img src=\"https://colab.research.google.com/assets/colab-badge.svg\" alt=\"Open In Colab\"/></a>"
      ]
    },
    {
      "cell_type": "code",
      "execution_count": null,
      "metadata": {
        "id": "6q0Kv82uqs_E"
      },
      "outputs": [],
      "source": []
    },
    {
      "cell_type": "markdown",
      "source": [
        "##VADER\n"
      ],
      "metadata": {
        "id": "eeNCFKqMqvgC"
      }
    },
    {
      "cell_type": "markdown",
      "source": [
        "###Polarity score\n",
        "Tipo dicionário\n",
        "\n",
        "Negativo, Neutro, Positivo ou Compound\n",
        "\n",
        "Compound : Valor real entre -1 e 1. Calculado atraves das palavras da snetenc1a\n",
        "sentença\n",
        "\n",
        "Polarity: valor rela entre -1 e 1\n",
        "\n",
        "Subjectivy: entre 0 e 1, quanto mais proximo de 1 mais subjetivo é"
      ],
      "metadata": {
        "id": "wrY_EgHaq1Zk"
      }
    },
    {
      "cell_type": "code",
      "source": [
        "import nltk\n",
        "nltk.download(\"vader_lexicon\")"
      ],
      "metadata": {
        "colab": {
          "base_uri": "https://localhost:8080/"
        },
        "id": "MEzt7Lu_q0k4",
        "outputId": "e4726e76-86ee-4db3-b612-8160b7100e84"
      },
      "execution_count": 1,
      "outputs": [
        {
          "output_type": "stream",
          "name": "stderr",
          "text": [
            "[nltk_data] Downloading package vader_lexicon to /root/nltk_data...\n"
          ]
        },
        {
          "output_type": "execute_result",
          "data": {
            "text/plain": [
              "True"
            ]
          },
          "metadata": {},
          "execution_count": 1
        }
      ]
    },
    {
      "cell_type": "code",
      "source": [
        "from nltk.sentiment.vader import SentimentIntensityAnalyzer\n",
        "mas = SentimentIntensityAnalyzer()"
      ],
      "metadata": {
        "id": "JwWJohZ9rYAS"
      },
      "execution_count": 2,
      "outputs": []
    },
    {
      "cell_type": "code",
      "source": [
        "a = 'I hate this movie,But I loved the girl!! '\n",
        "b = 'This plot is very old'\n",
        "c = 'i Am nervous this  girl'\n",
        "x = mas.polarity_scores(c)\n",
        "print(x)"
      ],
      "metadata": {
        "colab": {
          "base_uri": "https://localhost:8080/"
        },
        "id": "1I1QpLqsrax2",
        "outputId": "67b7e144-8bbc-4078-b075-d6c6c7e27de2"
      },
      "execution_count": 17,
      "outputs": [
        {
          "output_type": "stream",
          "name": "stdout",
          "text": [
            "{'neg': 0.412, 'neu': 0.588, 'pos': 0.0, 'compound': -0.2732}\n"
          ]
        }
      ]
    },
    {
      "cell_type": "code",
      "source": [
        "print(type(x))"
      ],
      "metadata": {
        "colab": {
          "base_uri": "https://localhost:8080/"
        },
        "id": "JGbVq_fsrcQl",
        "outputId": "bfe7c0de-079b-4283-f0af-4a3157ba2903"
      },
      "execution_count": 18,
      "outputs": [
        {
          "output_type": "stream",
          "name": "stdout",
          "text": [
            "<class 'dict'>\n"
          ]
        }
      ]
    },
    {
      "cell_type": "code",
      "source": [
        "print(x['compound'])"
      ],
      "metadata": {
        "colab": {
          "base_uri": "https://localhost:8080/"
        },
        "id": "_1kh0RGMrj9a",
        "outputId": "4531352a-4faa-497f-acea-1ca21bcfbb73"
      },
      "execution_count": 19,
      "outputs": [
        {
          "output_type": "stream",
          "name": "stdout",
          "text": [
            "-0.2732\n"
          ]
        }
      ]
    },
    {
      "cell_type": "code",
      "source": [
        "from textblob import TextBlob\n",
        "teste = TextBlob(\"I LOVE NY!\")\n",
        "print(teste.sentiment)"
      ],
      "metadata": {
        "colab": {
          "base_uri": "https://localhost:8080/"
        },
        "id": "lVk6OOUhrlU8",
        "outputId": "2563f71a-15c5-48ce-8429-ff80c0319408"
      },
      "execution_count": 23,
      "outputs": [
        {
          "output_type": "stream",
          "name": "stdout",
          "text": [
            "Sentiment(polarity=0.625, subjectivity=0.6)\n"
          ]
        }
      ]
    },
    {
      "cell_type": "code",
      "source": [
        "!pip install translate"
      ],
      "metadata": {
        "colab": {
          "base_uri": "https://localhost:8080/"
        },
        "id": "XiUUln5qrnJ2",
        "outputId": "46a9df44-1930-4055-cda7-b1c265097fab"
      },
      "execution_count": 24,
      "outputs": [
        {
          "output_type": "stream",
          "name": "stdout",
          "text": [
            "Looking in indexes: https://pypi.org/simple, https://us-python.pkg.dev/colab-wheels/public/simple/\n",
            "Collecting translate\n",
            "  Downloading translate-3.6.1-py2.py3-none-any.whl (12 kB)\n",
            "Requirement already satisfied: click in /usr/local/lib/python3.10/dist-packages (from translate) (8.1.3)\n",
            "Requirement already satisfied: lxml in /usr/local/lib/python3.10/dist-packages (from translate) (4.9.2)\n",
            "Requirement already satisfied: requests in /usr/local/lib/python3.10/dist-packages (from translate) (2.27.1)\n",
            "Collecting libretranslatepy==2.1.1 (from translate)\n",
            "  Downloading libretranslatepy-2.1.1-py3-none-any.whl (3.2 kB)\n",
            "Requirement already satisfied: urllib3<1.27,>=1.21.1 in /usr/local/lib/python3.10/dist-packages (from requests->translate) (1.26.16)\n",
            "Requirement already satisfied: certifi>=2017.4.17 in /usr/local/lib/python3.10/dist-packages (from requests->translate) (2023.5.7)\n",
            "Requirement already satisfied: charset-normalizer~=2.0.0 in /usr/local/lib/python3.10/dist-packages (from requests->translate) (2.0.12)\n",
            "Requirement already satisfied: idna<4,>=2.5 in /usr/local/lib/python3.10/dist-packages (from requests->translate) (3.4)\n",
            "Installing collected packages: libretranslatepy, translate\n",
            "Successfully installed libretranslatepy-2.1.1 translate-3.6.1\n"
          ]
        }
      ]
    },
    {
      "cell_type": "markdown",
      "source": [],
      "metadata": {
        "id": "l_5GBW0psxt6"
      }
    },
    {
      "cell_type": "code",
      "source": [
        "from translate import Translator\n",
        "translator = Translator(from_lang=\"pt\", to_lang=\"en\")\n",
        "traducao = translator.translate(\"o filme tinha o roteiro bem fraco, mas divertido\")\n",
        "print(traducao)"
      ],
      "metadata": {
        "colab": {
          "base_uri": "https://localhost:8080/"
        },
        "id": "V_H3hFLBrpW5",
        "outputId": "a44b837e-6562-4e11-c7a1-8f016bdca16f"
      },
      "execution_count": 31,
      "outputs": [
        {
          "output_type": "stream",
          "name": "stdout",
          "text": [
            "the movie had a very weak script, but fun\n"
          ]
        }
      ]
    },
    {
      "cell_type": "code",
      "source": [
        "x = mas.polarity_scores(traducao)\n",
        "print(x)"
      ],
      "metadata": {
        "colab": {
          "base_uri": "https://localhost:8080/"
        },
        "id": "adMYfxFVrpYJ",
        "outputId": "ac099da5-338b-4aad-dcbb-2702ed24c63f"
      },
      "execution_count": 33,
      "outputs": [
        {
          "output_type": "stream",
          "name": "stdout",
          "text": [
            "{'neg': 0.167, 'neu': 0.478, 'pos': 0.355, 'compound': 0.5193}\n"
          ]
        }
      ]
    },
    {
      "cell_type": "code",
      "source": [],
      "metadata": {
        "id": "Q9gw2LwRs6jS"
      },
      "execution_count": 32,
      "outputs": []
    }
  ]
}