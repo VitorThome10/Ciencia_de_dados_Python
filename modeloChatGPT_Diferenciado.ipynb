{
  "nbformat": 4,
  "nbformat_minor": 0,
  "metadata": {
    "colab": {
      "provenance": [],
      "authorship_tag": "ABX9TyO8Qijqkue+XB5DvRvxeRJJ"
    },
    "kernelspec": {
      "name": "python3",
      "display_name": "Python 3"
    },
    "language_info": {
      "name": "python"
    }
  },
  "cells": [
    {
      "cell_type": "code",
      "execution_count": 1,
      "metadata": {
        "colab": {
          "base_uri": "https://localhost:8080/"
        },
        "id": "K82b1HDhiISi",
        "outputId": "5fbeff7f-4368-4781-d67f-eaeb288adafb"
      },
      "outputs": [
        {
          "output_type": "stream",
          "name": "stdout",
          "text": [
            "Looking in indexes: https://pypi.org/simple, https://us-python.pkg.dev/colab-wheels/public/simple/\n",
            "Collecting openai\n",
            "  Downloading openai-0.27.8-py3-none-any.whl (73 kB)\n",
            "\u001b[2K     \u001b[90m━━━━━━━━━━━━━━━━━━━━━━━━━━━━━━━━━━━━━━━━\u001b[0m \u001b[32m73.6/73.6 kB\u001b[0m \u001b[31m4.0 MB/s\u001b[0m eta \u001b[36m0:00:00\u001b[0m\n",
            "\u001b[?25hRequirement already satisfied: requests>=2.20 in /usr/local/lib/python3.10/dist-packages (from openai) (2.27.1)\n",
            "Requirement already satisfied: tqdm in /usr/local/lib/python3.10/dist-packages (from openai) (4.65.0)\n",
            "Collecting aiohttp (from openai)\n",
            "  Downloading aiohttp-3.8.4-cp310-cp310-manylinux_2_17_x86_64.manylinux2014_x86_64.whl (1.0 MB)\n",
            "\u001b[2K     \u001b[90m━━━━━━━━━━━━━━━━━━━━━━━━━━━━━━━━━━━━━━━━\u001b[0m \u001b[32m1.0/1.0 MB\u001b[0m \u001b[31m24.2 MB/s\u001b[0m eta \u001b[36m0:00:00\u001b[0m\n",
            "\u001b[?25hRequirement already satisfied: urllib3<1.27,>=1.21.1 in /usr/local/lib/python3.10/dist-packages (from requests>=2.20->openai) (1.26.16)\n",
            "Requirement already satisfied: certifi>=2017.4.17 in /usr/local/lib/python3.10/dist-packages (from requests>=2.20->openai) (2023.5.7)\n",
            "Requirement already satisfied: charset-normalizer~=2.0.0 in /usr/local/lib/python3.10/dist-packages (from requests>=2.20->openai) (2.0.12)\n",
            "Requirement already satisfied: idna<4,>=2.5 in /usr/local/lib/python3.10/dist-packages (from requests>=2.20->openai) (3.4)\n",
            "Requirement already satisfied: attrs>=17.3.0 in /usr/local/lib/python3.10/dist-packages (from aiohttp->openai) (23.1.0)\n",
            "Collecting multidict<7.0,>=4.5 (from aiohttp->openai)\n",
            "  Downloading multidict-6.0.4-cp310-cp310-manylinux_2_17_x86_64.manylinux2014_x86_64.whl (114 kB)\n",
            "\u001b[2K     \u001b[90m━━━━━━━━━━━━━━━━━━━━━━━━━━━━━━━━━━━━━━━\u001b[0m \u001b[32m114.5/114.5 kB\u001b[0m \u001b[31m9.1 MB/s\u001b[0m eta \u001b[36m0:00:00\u001b[0m\n",
            "\u001b[?25hCollecting async-timeout<5.0,>=4.0.0a3 (from aiohttp->openai)\n",
            "  Downloading async_timeout-4.0.2-py3-none-any.whl (5.8 kB)\n",
            "Collecting yarl<2.0,>=1.0 (from aiohttp->openai)\n",
            "  Downloading yarl-1.9.2-cp310-cp310-manylinux_2_17_x86_64.manylinux2014_x86_64.whl (268 kB)\n",
            "\u001b[2K     \u001b[90m━━━━━━━━━━━━━━━━━━━━━━━━━━━━━━━━━━━━━━\u001b[0m \u001b[32m268.8/268.8 kB\u001b[0m \u001b[31m20.0 MB/s\u001b[0m eta \u001b[36m0:00:00\u001b[0m\n",
            "\u001b[?25hCollecting frozenlist>=1.1.1 (from aiohttp->openai)\n",
            "  Downloading frozenlist-1.3.3-cp310-cp310-manylinux_2_5_x86_64.manylinux1_x86_64.manylinux_2_17_x86_64.manylinux2014_x86_64.whl (149 kB)\n",
            "\u001b[2K     \u001b[90m━━━━━━━━━━━━━━━━━━━━━━━━━━━━━━━━━━━━━━\u001b[0m \u001b[32m149.6/149.6 kB\u001b[0m \u001b[31m13.6 MB/s\u001b[0m eta \u001b[36m0:00:00\u001b[0m\n",
            "\u001b[?25hCollecting aiosignal>=1.1.2 (from aiohttp->openai)\n",
            "  Downloading aiosignal-1.3.1-py3-none-any.whl (7.6 kB)\n",
            "Installing collected packages: multidict, frozenlist, async-timeout, yarl, aiosignal, aiohttp, openai\n",
            "Successfully installed aiohttp-3.8.4 aiosignal-1.3.1 async-timeout-4.0.2 frozenlist-1.3.3 multidict-6.0.4 openai-0.27.8 yarl-1.9.2\n"
          ]
        }
      ],
      "source": [
        "!pip install openai"
      ]
    },
    {
      "cell_type": "code",
      "source": [
        "import openai\n",
        "openai.api_key = \"\""
      ],
      "metadata": {
        "id": "hSE0vqvGiJYo"
      },
      "execution_count": 2,
      "outputs": []
    },
    {
      "cell_type": "code",
      "source": [
        "response = openai.Completion.create(engine=\"text-davinci-003\",prompt=\"qual ultimo titulo do sao paulo fc\")\n",
        "print(response)"
      ],
      "metadata": {
        "colab": {
          "base_uri": "https://localhost:8080/"
        },
        "id": "kzHj8giPiUFq",
        "outputId": "15504c5f-f0c7-4940-e43e-2402aa06ee85"
      },
      "execution_count": 6,
      "outputs": [
        {
          "output_type": "stream",
          "name": "stdout",
          "text": [
            "{\n",
            "  \"id\": \"cmpl-7UkHlD1nrCzSYKZa4WXRbE6ObQFoc\",\n",
            "  \"object\": \"text_completion\",\n",
            "  \"created\": 1687562117,\n",
            "  \"model\": \"text-davinci-003\",\n",
            "  \"choices\": [\n",
            "    {\n",
            "      \"text\": \"\\n\\nCampe\\u00e3o Brasileiro S\\u00e9rie A 2020\",\n",
            "      \"index\": 0,\n",
            "      \"logprobs\": null,\n",
            "      \"finish_reason\": \"stop\"\n",
            "    }\n",
            "  ],\n",
            "  \"usage\": {\n",
            "    \"prompt_tokens\": 13,\n",
            "    \"completion_tokens\": 13,\n",
            "    \"total_tokens\": 26\n",
            "  }\n",
            "}\n"
          ]
        }
      ]
    },
    {
      "cell_type": "code",
      "source": [
        "#2-Formatação da Saída - Tradução\n",
        "\n",
        "response = openai.Completion.create(engine=\"text-davinci-003\",prompt=\"Pode traduzir a frase: The best city the world\")\n",
        "print(response.choices[0].text)"
      ],
      "metadata": {
        "colab": {
          "base_uri": "https://localhost:8080/"
        },
        "id": "-Mb8VkekiWFr",
        "outputId": "15262c58-603f-488d-cb4b-116ccb5787f3"
      },
      "execution_count": 8,
      "outputs": [
        {
          "output_type": "stream",
          "name": "stdout",
          "text": [
            "\n",
            "\n",
            "A melhor cidade do mundo.\n"
          ]
        }
      ]
    },
    {
      "cell_type": "code",
      "source": [
        "\n",
        "response = openai.Completion.create(\n",
        "    model=\"text-davinci-003\",\n",
        "    prompt=\"Sao paulo futebom clune é\",\n",
        "    max_tokens=4000\n",
        "    )\n",
        "print(response.choices[0].text)"
      ],
      "metadata": {
        "colab": {
          "base_uri": "https://localhost:8080/"
        },
        "id": "x6iE8gdYiqiM",
        "outputId": "f4fb2158-3e83-4b62-d11e-c2a50cc5effc"
      },
      "execution_count": 9,
      "outputs": [
        {
          "output_type": "stream",
          "name": "stdout",
          "text": [
            " um time profissional de futebol da cidade de São Paulo, Brasil. Fundado em 12 de janeiro de 1935, o clube é um dos mais antigos e vencedores do futebol brasileiro, tendo conquistado 28 títulos de campeonato estadual, três Torneios Rio-SP, seis títulos nacionais e duas internacionais: uma Copa Libertadores e uma Copa Intercontinental. O São Paulo Futebol Clube é o terceiro time mais vitorioso do Brasil, atrás somente do Corinthians e do Santos. A sua torcida é a quinta maior do país, com mais de cinco milhões de torcedores, segundo a Confederação Brasileira de Futebol. Seu estádio é o Estádio do Morumbi, um dos mais modernos da América do Sul, com capacidade máxima para 66.807 torcedores.\n"
          ]
        }
      ]
    },
    {
      "cell_type": "code",
      "source": [
        "#4-Outros modelos, composição/crição\n",
        "\n",
        "models_list = [\"text-davinci-003\",\"text-davinci-002\",\"text-curie-001\",\"text-babbage-001\",\"text-ada-001\"]\n",
        "\n",
        "for models in models_list:\n",
        "    response = openai.Completion.create(\n",
        "        model=models,\n",
        "        prompt=\"Faca um codico para consumir uma api em python\",\n",
        "        max_tokens=2000\n",
        "        )\n",
        "    response = response.choices[0].text.replace('\\n','') + '\\n'\n",
        "    print(models + ':\\n' + response)"
      ],
      "metadata": {
        "colab": {
          "base_uri": "https://localhost:8080/"
        },
        "id": "vt2kUyjEi20C",
        "outputId": "1da70f8e-9065-410e-f3a4-1a1bca0869e0"
      },
      "execution_count": 11,
      "outputs": [
        {
          "output_type": "stream",
          "name": "stdout",
          "text": [
            "text-davinci-003:\n",
            "#importando módulos necessáriosimport requestsimport json#definindo as credenciais para acessar a APIchave_api = \"SUA_CHAVE_API_AQUI\"url = 'SUA_URL_API_AQUI'#criando um parâmetro de headers para o requestheaders = {'authorization': 'Bearer ' + chave_api}#efetuando o requestresponse = requests.get(url, headers=headers)#verificando o status da requisiçãoif response.status_code == 200:    #caso de sucesso    #convertendo a resposta em json    dados = json.loads(response.content.decode('utf-8'))    #mostrando os resultados    print('Dados recebidos da API:')    print(dados)else:    #caso de erro    print('Erro ao processar a requisição!')    print('Código do erro:', response.status_code)\n",
            "\n",
            "text-davinci-002:\n",
            "import requestsurl = 'https://api.github.com/search/repositories?q=language:python&sort=stars'headers = {'Accept': 'application/vnd.github.v3+json'}r = requests.get(url, headers=headers)print(r.json()['items'][0])\n",
            "\n",
            "text-curie-001:\n",
            "def consume_api(url): headers={'Accept': 'application/json'} resp={ \"ok\": \"The response was {0}\", \"error\": \"There was an error consuming the API.\", \"data\": { \"id\": \"1\", \"name\": \"John\" } } return resp\n",
            "\n",
            "text-babbage-001:\n",
            "def __name__ ( self ): return 'API'\n",
            "\n",
            "text-ada-001:\n",
            "asi,asi,asi,asi,asi,asi,asi,asi,asi,asi,asi,asi,asi,asi,asi,asi,asi,asi,asi,asi,asi,asi,asi,asi,asi,asi,asi,asi,asi,asi,asi,asi,asi,asi,asi,asi,asi,asi,asi,asi,asi,asi,asi,asi,asi,asi,asi,asi,asi,asi,asi,asi,asi,asi,asi,asi,asi,asi,asi,asi,asi,asi,asi,asi,asi,asi,asi,asi,asi,asi,asi,asi,asi,asi,asi,asi,asi,asi,asi,asi,asi,asi,asi,asi,asi,asi,asi,asi,asi,asi,asi,asi,asi,asi,asi,asi,asi,asi,ani,asi,asi,asi,asi,asi,asp,font,small,There is no onesizejacketted answer for this question - you need to decide what type of codic Stop William Goldingstop\n",
            "\n"
          ]
        }
      ]
    },
    {
      "cell_type": "code",
      "source": [
        "#6-Best of - Cálculo\n",
        "\n",
        "response = openai.Completion.create(\n",
        "    model=\"text-davinci-003\",\n",
        "    prompt=\"Calcule a integral de x de 0 a 100\",\n",
        "    max_tokens=2000,\n",
        "    n = 3,\n",
        "    best_of = 4\n",
        "    )\n",
        "\n",
        "for a in range(len(response.choices)):\n",
        "    print(response.choices[a].text)"
      ],
      "metadata": {
        "colab": {
          "base_uri": "https://localhost:8080/"
        },
        "id": "FTFjfxKVi7sf",
        "outputId": "9e049f5c-474a-46da-87b1-8e5a4fd3d5b7"
      },
      "execution_count": 13,
      "outputs": [
        {
          "output_type": "stream",
          "name": "stdout",
          "text": [
            "\n",
            "\n",
            "A integral de x de 0 a 100 é igual a 5000.\n",
            "\n",
            "\n",
            "A integral de x de 0 a 100 é (100²/2) - (0²/2) = 5050.\n",
            "\n",
            "\n",
            "Integral de x de 0 a 100 = 100²/2 = 5000\n"
          ]
        }
      ]
    },
    {
      "cell_type": "code",
      "source": [
        "#7-temperature - Criação/criatividade\n",
        "\n",
        "temperature_list = [0,0.5,0.7,1]\n",
        "\n",
        "for temperature in temperature_list:\n",
        "    response = openai.Completion.create(\n",
        "        model=\"text-davinci-003\",\n",
        "        prompt=\"Escreva um poema inspirado em Bukowsky\",\n",
        "        max_tokens=2000,\n",
        "        temperature = temperature\n",
        "        )\n",
        "    response = response.choices[0].text.replace('\\n','') + '\\n'\n",
        "    print(str(temperature) + ':\\n' + response)"
      ],
      "metadata": {
        "colab": {
          "base_uri": "https://localhost:8080/"
        },
        "id": "GNgchx5hjObv",
        "outputId": "933d0050-97f3-49bd-ab31-176e9983000d"
      },
      "execution_count": 15,
      "outputs": [
        {
          "output_type": "stream",
          "name": "stdout",
          "text": [
            "0:\n",
            "A vida é uma lutaEu luto todos os diasPara encontrar a felicidadeE meu lugar no mundoEu me sinto perdidoSem saber o que fazerMas eu sei que não desistireiEu vou lutar até o fimEu me sinto sozinhoMas eu sei que não estouHá muitas pessoas ao meu redorQue me ajudam a seguir em frenteEu me sinto cansadoMas eu sei que não desistireiEu vou lutar até o fimPara encontrar a felicidadeEu sei que a vida é difícilMas eu sei que não desistireiEu vou lutar até o fimPara encontrar a felicidade.\n",
            "\n",
            "0.5:\n",
            "O mundo é um lugar cruelOnde todos lutam para sobreviverVivemos em busca de algo melhorMas a vida é difícil de entenderOnde a tristeza e a dor são reaisE a luta é constante para não desistirE o que essa vida nos ensina?Que a vida é curta e os dias são longosE que cada momento é únicoE que devemos vivê-lo com intensidadeVamos lutar por nossos sonhosE nunca desistir de nossas esperançasVamos nos libertar da escuridãoE viver a vida como BukowskyVamos nos permitir sentirE nos abrir para o novoVamos viver cada momento como se fosse o últimoE nos permitir ser livres e felizes\n",
            "\n",
            "0.7:\n",
            "O mundo é tão cruelE tão grande e assustadorMas não há mal que durePorque temos BukowskyQue nos inspira com sua arteE nos faz ver a luzQue nos dá a paz e a forçaPara prosseguir nossa lutaEle nos lembra que a vidaÉ um caminho cheio de amorE que podemos vencerTudo através do poemaEle nos ensina a amarSem medo e sem preconceitoE a não desistirMesmo quando as lutas são difíceisÉ por isso que sempreNos lembramos de BukowskyE com sua poesiaNos inspiramos a viver\n",
            "\n",
            "1:\n",
            "Quando o fumo das ruas clareiaE os passos de Bukowsky ecoam entre as paredesQuero aproximar cada vez maisMinhas almas do astro poetaMergulhar nas letras sombrias, nos desejos obscurosCaminhar pelas praças perdidas, ganhando o vento serenoEsqueço meu passado, não ligo pra mais nadaE me perco nos mais complexos versosEu sinto a liberdade do poema, como magia eu monto a foliaSentindo que a vida é só uma, salgada esta poesiaCaminho pelas palavras cruas, até o que é ruim crescer bonitoO ácido dos versos me fazem sentir que eu sou grandeVi a grandeza nas sombras que atraemEle vive em busca da verdade mais genuínaEstar ao lado de Bukowsky foi a melhor coisaEu me entreguei à poesia, e me tornei mais mágico.\n",
            "\n"
          ]
        }
      ]
    },
    {
      "cell_type": "code",
      "source": [
        "#8 - echo - guia de estudo\n",
        "\n",
        "response = openai.Completion.create(\n",
        "    model=\"text-davinci-003\",\n",
        "    prompt=\"Crie um guia de estudo para Machine Learning\",\n",
        "    max_tokens=2000,\n",
        "    echo = True\n",
        "    )\n",
        "\n",
        "print(response.choices[0].text)"
      ],
      "metadata": {
        "colab": {
          "base_uri": "https://localhost:8080/"
        },
        "id": "EEX_mZT1jcEB",
        "outputId": "6bccf46e-2633-45c0-d498-052371bad386"
      },
      "execution_count": 16,
      "outputs": [
        {
          "output_type": "stream",
          "name": "stdout",
          "text": [
            "Crie um guia de estudo para Machine Learning\n",
            "\n",
            "Parte 01: Introdução ao Machine Learning\n",
            "\n",
            "1. O que é Machine Learning?\n",
            "Uma área da Ciência da Computação que investiga a construção e o estudo de sistemas que podem aprender de forma autônoma. Estes sistemas usam algoritmos para aprender a partir de dados, sem serem explicitamente programados.\n",
            "\n",
            "2. Tipos de Machine Learning\n",
            "A) Aprendizagem supervisionada: O sistema é treinado a partir de um conjunto de exemplos classificados.\n",
            "B) Aprendizagem não supervisionada: O sistema é treinado a partir de um conjunto de dados não classificados.\n",
            "C) Aprendizagem profunda: exemplos exigem programas de rede neural profunda para interpretar e aprender valores em um conjunto de dados.\n",
            "\n",
            "3. O que é Machine Learning usado?\n",
            "A Machine Learning é usada em dois principais domínios - como soluções de negócios e como soluções de pesquisa.\n",
            "\n",
            "Parte 02: Variáveis e algoritmos de Machine Learning\n",
            "\n",
            "1. Variáveis\n",
            "As variáveis são usadas para classificar e descrever os dados de entrada. Existem três principais tipos de variáveis: input, output e preditor.\n",
            "\n",
            "2. Algoritmos\n",
            "Os algoritmos são os principais componentes de qualquer sistema de Machine Learning. Eles são responsáveis por ajustar os parâmetros dos modelos usando os dados de treinamento e avaliar a precisão dos modelos.\n",
            "\n",
            "3. Tipos de algoritmos\n",
            "Os principais tipos de algoritmos de Machine Learning são: regressão, classificação, clustering, aprendizagem de máquinas e aprendizagem profunda.\n",
            "\n",
            "Parte 03: Construindo um modelo de Machine Learning\n",
            "\n",
            "1. Pré-processamento\n",
            "Antes de construir um modelo de Machine Learning, é necessário fazer o pré-processamento dos dados. Isso inclui normalizar, limpar e formatar os dados para que eles sejam adequados para a criação de um modelo.\n",
            "\n",
            "2. Escolha do algoritmo\n",
            "Após a preparação dos dados, é hora de escolher o algoritmo de Machine Learning que melhor se adapte às suas necessidades.\n",
            "\n",
            "3. Construir o modelo\n",
            "Agora que o algoritmo foi escolhido, é hora de construir o modelo de Machine Learning. Isso envolve definir os parâmetros, fazer a extração dos dados, treinar e avaliar o modelo.\n",
            "\n",
            "Parte 04: Avaliando e Melhorando o Modelo\n",
            "\n",
            "1. Avaliação\n",
            "Após a construção do modelo, é necessário avaliar sua precisão. Isso é feito através de métricas de avaliação como acurácia, precisão, revocação e F1 Score.\n",
            "\n",
            "2. Algoritmos de Otimização\n",
            "Uma vez que o modelo foi avaliado, é possível usar algoritmos de otimização para melhorar a sua precisão. Os principais algoritmos de otimização incluem gradiente descendente, busca da montanha e busca aleatória.\n",
            "\n",
            "Parte 05: Considere possíveis aplicações de Machine Learning\n",
            "\n",
            "1. Recomendações\n",
            "Os sistemas de recomendação baseados em Machine Learning são usados para sugerir itens aos usuários com base nas suas preferências anteriores.\n",
            "\n",
            "2. Visão Computacional\n",
            "A visão computacional usa deep learning para classificar e identificar objetos em imagens.\n",
            "\n",
            "3. Reconhecimento de Padrões\n",
            "Os algoritmos de reconhecimento de padrões são usados para detectar padrões em um grande conjunto de dados e decidir se um evento é estatisticamente significativo.\n",
            "\n",
            "Parte 06: Implementação de um Projeto de Machine Learning\n",
            "\n",
            "1. Planejamento\n",
            "Antes de começar a implementar um projeto de Machine Learning, é necessário estruturar o seu projeto. Isso inclui coletar os dados, decidir qual algoritmo usar, definir os objetivos e as métricas de avaliação.\n",
            "\n",
            "2. Preparação dos Dados\n",
            "É necessário preparar os dados de entrada para serem usados no projeto de Machine Learning. Isso inclui normalizar os dados, selecionar as variáveis necessárias e dividir o conjunto de dados em conjuntos de treinamento e teste.\n",
            "\n",
            "3. Treinamento e Teste do Modelo\n",
            "Antes de implementar o projeto, é necessário treinar e testar o modelo para avaliar sua precisão. Durante o treinamento, são ajustados os parâmetros usando os dados de treinamento e são calculadas as métricas de avaliação.\n",
            "\n",
            "4. Implementação\n",
            "Após o treinamento, é possível passar para a implementação do projeto de Machine Learning. Isso envolve criar um software ou um sistema para executar o modelo de Machine Learning.\n",
            "\n",
            "Parte 07: Considerações Finais\n",
            "\n",
            "A Machine Learning é uma área de estudo em constante evolução. Estudar Machine Learning e praticar é importante para compreender os tópicos fundamentais, algoritmos e técnicas necessárias para construir e aplicar modelos de Machine Learning com sucesso.\n"
          ]
        }
      ]
    },
    {
      "cell_type": "code",
      "source": [],
      "metadata": {
        "id": "2cYMu1Zljk4h"
      },
      "execution_count": null,
      "outputs": []
    }
  ]
}